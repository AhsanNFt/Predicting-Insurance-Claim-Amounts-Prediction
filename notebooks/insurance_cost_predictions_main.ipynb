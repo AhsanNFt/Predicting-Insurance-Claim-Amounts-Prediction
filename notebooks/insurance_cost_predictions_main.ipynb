{
 "cells": [
  {
   "cell_type": "markdown",
   "id": "f70513b2",
   "metadata": {},
   "source": [
    "# Task 4: Insurance Charges Prediction\n",
    "Linear Regression model to predict medical insurance charges based on features like age, BMI, and smoking status."
   ]
  },
  {
   "cell_type": "code",
   "execution_count": null,
   "id": "c275df14-d16d-474b-8d28-cddad1d159bc",
   "metadata": {},
   "outputs": [],
   "source": [
    "# Import required libraries\n",
    "import pandas as pd\n",
    "import numpy as np\n",
    "import matplotlib.pyplot as plt\n",
    "import seaborn as sns\n",
    "from sklearn.model_selection import train_test_split\n",
    "from sklearn.preprocessing import StandardScaler\n",
    "from sklearn.linear_model import LinearRegression\n",
    "from sklearn.metrics import mean_absolute_error, mean_squared_error"
   ]
  },
  {
   "cell_type": "code",
   "execution_count": null,
   "id": "dfd4811b-86b0-4d4f-ae07-6fdd02fe98d5",
   "metadata": {},
   "outputs": [],
   "source": [
    "# Load the dataset\n",
    "df = pd.read_csv('../data/insurance.csv')\n",
    "df.head()"
   ]
  },
  {
   "cell_type": "markdown",
   "id": "45b32a32",
   "metadata": {},
   "source": [
    "### Data Cleaning and Preparation"
   ]
  },
  {
   "cell_type": "code",
   "execution_count": null,
   "id": "a36849b2",
   "metadata": {},
   "outputs": [],
   "source": [
    "\n",
    "# Check for missing values\n",
    "print(df.isnull().sum())\n",
    "\n",
    "# Encode categorical variables\n",
    "df['smoker'] = df['smoker'].map({'yes': 1, 'no': 0})\n",
    "df['sex'] = df['sex'].map({'male': 1, 'female': 0})\n",
    "df = pd.get_dummies(df, columns=['region'], drop_first=True)\n"
   ]
  },
  {
   "cell_type": "markdown",
   "id": "297f80c2",
   "metadata": {},
   "source": [
    "###  Exploratory Data Analysis (EDA)"
   ]
  },
  {
   "cell_type": "markdown",
   "id": "abe2654f",
   "metadata": {},
   "source": [
    "#### 1. BMI vs Insurance Charges"
   ]
  },
  {
   "cell_type": "code",
   "execution_count": null,
   "id": "a7d6c6a1",
   "metadata": {},
   "outputs": [],
   "source": [
    "\n",
    "plt.figure(figsize=(8,5))\n",
    "sns.scatterplot(data=df, x='bmi', y='charges', hue='smoker')\n",
    "plt.title('Impact of BMI on Insurance Charges')\n",
    "plt.xlabel('BMI')\n",
    "plt.ylabel('Insurance Charges')\n",
    "plt.legend(title='Smoker')\n",
    "plt.tight_layout()\n",
    "plt.show()\n"
   ]
  },
  {
   "cell_type": "markdown",
   "id": "fa255b0d",
   "metadata": {},
   "source": [
    " **Explanation**:\n",
    " The above Graph shows:\n",
    "- For **non-smokers**, insurance charges increase slowly as BMI rises.  \n",
    "- For **smokers**, the charges increase sharply, especially with high BMI.  \n",
    "- It means overweight and smoking together greatly increase insurance costs.\n"
   ]
  },
  {
   "cell_type": "markdown",
   "id": "706e091b",
   "metadata": {},
   "source": [
    "#### 2. Age vs Insurance Charges"
   ]
  },
  {
   "cell_type": "code",
   "execution_count": null,
   "id": "83e32f90",
   "metadata": {},
   "outputs": [],
   "source": [
    "plt.figure(figsize=(8,5))\n",
    "sns.scatterplot(data=df, x='age', y='charges', hue='smoker')\n",
    "plt.title('Impact of Age on Insurance Charges')\n",
    "plt.xlabel('Age')\n",
    "plt.ylabel('Insurance Charges')\n",
    "plt.legend(title='Smoker')\n",
    "plt.tight_layout()\n",
    "plt.show()\n"
   ]
  },
  {
   "cell_type": "markdown",
   "id": "b6ddb4d5",
   "metadata": {},
   "source": [
    " **Explanation**:The above Graph shows  \n",
    "- As people get older, their insurance charges usually go higher.\n",
    "- This happens even more for people who smoke.\n",
    "- Older people are more likely to have health problems, so they cost more to insure."
   ]
  },
  {
   "cell_type": "markdown",
   "id": "68861384",
   "metadata": {},
   "source": [
    "#### 3. Smoking Status vs Insurance Charges"
   ]
  },
  {
   "cell_type": "code",
   "execution_count": null,
   "id": "98a8b3dc",
   "metadata": {},
   "outputs": [],
   "source": [
    "plt.figure(figsize=(6,5))\n",
    "sns.boxplot(data=df, x='smoker', y='charges')\n",
    "plt.title('Effect of Smoking on Insurance Charges')\n",
    "plt.xlabel('Smoker')\n",
    "plt.ylabel('Insurance Charges')\n",
    "plt.xticks([0, 1], ['No', 'Yes'])\n",
    "plt.tight_layout()\n",
    "plt.show()\n"
   ]
  },
  {
   "cell_type": "markdown",
   "id": "82d518e7",
   "metadata": {},
   "source": [
    "✅ **Explanation**:  \n",
    "- Smokers pay much higher insurance charges than non-smokers.  \n",
    "- On average, smokers' charges are **more than double**.  \n",
    "- Smoking increases health risks, so insurers predict higher costs.\n"
   ]
  },
  {
   "cell_type": "markdown",
   "id": "e6e74b69-9615-4bf0-a29c-bafe938a281f",
   "metadata": {},
   "source": [
    "\n",
    "### Feature Engineering"
   ]
  },
  {
   "cell_type": "markdown",
   "id": "843ea326-ffc7-440b-a821-2d3a79e7c9db",
   "metadata": {},
   "source": [
    "To improve the model's performance, we added new features:\n",
    "- age_smoker: Combines age and smoking status.\n",
    "- bmi_smoker: Combines BMI and smoking status.\n",
    "- These help the model understand how age or BMI affect charges **differently for smokers**.\n",
    "  \n",
    "- age_squared and bmi_squared: Help capture **nonlinear relationships** between age/BMI and insurance charges.\n",
    "\n",
    "These new features can help the model make better predictions by learning more complex patterns in the data.\n"
   ]
  },
  {
   "cell_type": "code",
   "execution_count": null,
   "id": "6b526709-8ca5-4ae0-9e6c-970667e41a5b",
   "metadata": {},
   "outputs": [],
   "source": [
    "\n",
    "# ✅ Feature Engineering: Add interaction and polynomial features\n",
    "df['age_smoker'] = df['age'] * df['smoker']\n",
    "df['bmi_smoker'] = df['bmi'] * df['smoker']\n",
    "df['age_squared'] = df['age'] ** 2\n",
    "df['bmi_squared'] = df['bmi'] ** 2\n"
   ]
  },
  {
   "cell_type": "code",
   "execution_count": null,
   "id": "944297d4-ae8c-48f8-b2dc-59bfc471ba59",
   "metadata": {},
   "outputs": [],
   "source": [
    "df.head()"
   ]
  },
  {
   "cell_type": "markdown",
   "id": "68d4984e",
   "metadata": {},
   "source": [
    "###  Model Training"
   ]
  },
  {
   "cell_type": "code",
   "execution_count": null,
   "id": "bcaa058d",
   "metadata": {},
   "outputs": [],
   "source": [
    "from sklearn.model_selection import train_test_split\n",
    "from sklearn.linear_model import LinearRegression\n",
    "\n",
    "# Define features and target\n",
    "X = df.drop('charges', axis=1)\n",
    "y = df['charges']\n",
    "\n",
    "# Train-test split\n",
    "X_train, X_test, y_train, y_test = train_test_split(X, y, test_size=0.2, random_state=42)\n",
    "\n",
    "# Train Linear Regression model\n",
    "model = LinearRegression()\n",
    "model.fit(X_train, y_train)\n"
   ]
  },
  {
   "cell_type": "markdown",
   "id": "3b5853c9",
   "metadata": {},
   "source": [
    "###  Model Evaluation"
   ]
  },
  {
   "cell_type": "code",
   "execution_count": null,
   "id": "0c82a405",
   "metadata": {},
   "outputs": [],
   "source": [
    "from sklearn.metrics import mean_absolute_error, mean_squared_error\n",
    "\n",
    "y_pred = model.predict(X_test)\n",
    "mae = mean_absolute_error(y_test, y_pred)\n",
    "rmse = np.sqrt(mean_squared_error(y_test, y_pred))\n",
    "\n",
    "print(f\"Mean Absolute Error (MAE): ${mae:.2f}\")\n",
    "print(f\"Root Mean Squared Error (RMSE): ${rmse:.2f}\")\n"
   ]
  },
  {
   "cell_type": "markdown",
   "id": "4eaf5df0",
   "metadata": {},
   "source": [
    "###  Simple Interpretation\n",
    "\n",
    "- **MAE**: The model is usually off by about $2,711 when predicting charges.\n",
    "\n",
    "- **RMSE**: The average error is around $4,506, and it gives more importance to bigger mistakes.\n",
    "\n",
    "- **Smaller** values mean the model is making more accurate predictions."
   ]
  },
  {
   "cell_type": "code",
   "execution_count": null,
   "id": "7f7bf29d-17b3-4390-8173-7f28006c5a05",
   "metadata": {},
   "outputs": [],
   "source": []
  }
 ],
 "metadata": {
  "kernelspec": {
   "display_name": "Python 3 (ipykernel)",
   "language": "python",
   "name": "python3"
  },
  "language_info": {
   "codemirror_mode": {
    "name": "ipython",
    "version": 3
   },
   "file_extension": ".py",
   "mimetype": "text/x-python",
   "name": "python",
   "nbconvert_exporter": "python",
   "pygments_lexer": "ipython3",
   "version": "3.8.10"
  }
 },
 "nbformat": 4,
 "nbformat_minor": 5
}
